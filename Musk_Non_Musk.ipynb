{
  "nbformat": 4,
  "nbformat_minor": 0,
  "metadata": {
    "colab": {
      "name": "Musk_Non-Musk",
      "provenance": [],
      "collapsed_sections": []
    },
    "kernelspec": {
      "name": "python3",
      "display_name": "Python 3"
    }
  },
  "cells": [
    {
      "cell_type": "markdown",
      "metadata": {
        "id": "qmjvNWVQS2gZ"
      },
      "source": [
        "# Classification Model\n",
        "* classify the compound as either **musk** or **non-musk**\n",
        "* using Artificial Neural Network "
      ]
    },
    {
      "cell_type": "code",
      "metadata": {
        "id": "X3uRrCZIa5xs"
      },
      "source": [
        "import os"
      ],
      "execution_count": 2,
      "outputs": []
    },
    {
      "cell_type": "code",
      "metadata": {
        "colab": {
          "base_uri": "https://localhost:8080/",
          "height": 35
        },
        "id": "c0gU72bnbWq-",
        "outputId": "7f956e65-a348-4dd8-df8c-ffcd17e66a68"
      },
      "source": [
        "os.getcwd()"
      ],
      "execution_count": 3,
      "outputs": [
        {
          "output_type": "execute_result",
          "data": {
            "application/vnd.google.colaboratory.intrinsic+json": {
              "type": "string"
            },
            "text/plain": [
              "'/content'"
            ]
          },
          "metadata": {
            "tags": []
          },
          "execution_count": 3
        }
      ]
    },
    {
      "cell_type": "markdown",
      "metadata": {
        "id": "hwGdLEARabNH"
      },
      "source": [
        "Change current working directory"
      ]
    },
    {
      "cell_type": "code",
      "metadata": {
        "id": "sIYAUMvOdW_H"
      },
      "source": [
        "os.chdir(\"/content/drive/MyDrive/Dataset\")"
      ],
      "execution_count": 5,
      "outputs": []
    },
    {
      "cell_type": "markdown",
      "metadata": {
        "id": "_MSoNKOBT5iL"
      },
      "source": [
        "## Importing Libraries"
      ]
    },
    {
      "cell_type": "code",
      "metadata": {
        "id": "3cU_Xo51bgRx"
      },
      "source": [
        "import pandas as pd\n",
        "import numpy as np\n",
        "import matplotlib.pyplot as plt\n",
        "%matplotlib inline\n",
        "import keras\n",
        "from keras.models import Sequential\n",
        "from keras.layers import Dense\n",
        "from sklearn.metrics import classification_report, confusion_matrix, accuracy_score\n",
        "from keras.optimizers import Adam"
      ],
      "execution_count": 6,
      "outputs": []
    },
    {
      "cell_type": "markdown",
      "metadata": {
        "id": "gMCYP7IsUFOS"
      },
      "source": [
        "## Importing the dataset from csv file"
      ]
    },
    {
      "cell_type": "code",
      "metadata": {
        "colab": {
          "base_uri": "https://localhost:8080/",
          "height": 253
        },
        "id": "vHGZ3oWEbrX2",
        "outputId": "2ed97c1b-3b22-499d-82bc-8456c03544ea"
      },
      "source": [
        "data=pd.read_csv(\"musk_csv.csv\",index_col=False)\n",
        "data.head()"
      ],
      "execution_count": 7,
      "outputs": [
        {
          "output_type": "execute_result",
          "data": {
            "text/html": [
              "<div>\n",
              "<style scoped>\n",
              "    .dataframe tbody tr th:only-of-type {\n",
              "        vertical-align: middle;\n",
              "    }\n",
              "\n",
              "    .dataframe tbody tr th {\n",
              "        vertical-align: top;\n",
              "    }\n",
              "\n",
              "    .dataframe thead th {\n",
              "        text-align: right;\n",
              "    }\n",
              "</style>\n",
              "<table border=\"1\" class=\"dataframe\">\n",
              "  <thead>\n",
              "    <tr style=\"text-align: right;\">\n",
              "      <th></th>\n",
              "      <th>ID</th>\n",
              "      <th>molecule_name</th>\n",
              "      <th>conformation_name</th>\n",
              "      <th>f1</th>\n",
              "      <th>f2</th>\n",
              "      <th>f3</th>\n",
              "      <th>f4</th>\n",
              "      <th>f5</th>\n",
              "      <th>f6</th>\n",
              "      <th>f7</th>\n",
              "      <th>f8</th>\n",
              "      <th>f9</th>\n",
              "      <th>f10</th>\n",
              "      <th>f11</th>\n",
              "      <th>f12</th>\n",
              "      <th>f13</th>\n",
              "      <th>f14</th>\n",
              "      <th>f15</th>\n",
              "      <th>f16</th>\n",
              "      <th>f17</th>\n",
              "      <th>f18</th>\n",
              "      <th>f19</th>\n",
              "      <th>f20</th>\n",
              "      <th>f21</th>\n",
              "      <th>f22</th>\n",
              "      <th>f23</th>\n",
              "      <th>f24</th>\n",
              "      <th>f25</th>\n",
              "      <th>f26</th>\n",
              "      <th>f27</th>\n",
              "      <th>f28</th>\n",
              "      <th>f29</th>\n",
              "      <th>f30</th>\n",
              "      <th>f31</th>\n",
              "      <th>f32</th>\n",
              "      <th>f33</th>\n",
              "      <th>f34</th>\n",
              "      <th>f35</th>\n",
              "      <th>f36</th>\n",
              "      <th>f37</th>\n",
              "      <th>...</th>\n",
              "      <th>f128</th>\n",
              "      <th>f129</th>\n",
              "      <th>f130</th>\n",
              "      <th>f131</th>\n",
              "      <th>f132</th>\n",
              "      <th>f133</th>\n",
              "      <th>f134</th>\n",
              "      <th>f135</th>\n",
              "      <th>f136</th>\n",
              "      <th>f137</th>\n",
              "      <th>f138</th>\n",
              "      <th>f139</th>\n",
              "      <th>f140</th>\n",
              "      <th>f141</th>\n",
              "      <th>f142</th>\n",
              "      <th>f143</th>\n",
              "      <th>f144</th>\n",
              "      <th>f145</th>\n",
              "      <th>f146</th>\n",
              "      <th>f147</th>\n",
              "      <th>f148</th>\n",
              "      <th>f149</th>\n",
              "      <th>f150</th>\n",
              "      <th>f151</th>\n",
              "      <th>f152</th>\n",
              "      <th>f153</th>\n",
              "      <th>f154</th>\n",
              "      <th>f155</th>\n",
              "      <th>f156</th>\n",
              "      <th>f157</th>\n",
              "      <th>f158</th>\n",
              "      <th>f159</th>\n",
              "      <th>f160</th>\n",
              "      <th>f161</th>\n",
              "      <th>f162</th>\n",
              "      <th>f163</th>\n",
              "      <th>f164</th>\n",
              "      <th>f165</th>\n",
              "      <th>f166</th>\n",
              "      <th>class</th>\n",
              "    </tr>\n",
              "  </thead>\n",
              "  <tbody>\n",
              "    <tr>\n",
              "      <th>0</th>\n",
              "      <td>1</td>\n",
              "      <td>MUSK-211</td>\n",
              "      <td>211_1+1</td>\n",
              "      <td>46</td>\n",
              "      <td>-108</td>\n",
              "      <td>-60</td>\n",
              "      <td>-69</td>\n",
              "      <td>-117</td>\n",
              "      <td>49</td>\n",
              "      <td>38</td>\n",
              "      <td>-161</td>\n",
              "      <td>-8</td>\n",
              "      <td>5</td>\n",
              "      <td>-323</td>\n",
              "      <td>-220</td>\n",
              "      <td>-113</td>\n",
              "      <td>-299</td>\n",
              "      <td>-283</td>\n",
              "      <td>-307</td>\n",
              "      <td>-31</td>\n",
              "      <td>-106</td>\n",
              "      <td>-227</td>\n",
              "      <td>-42</td>\n",
              "      <td>-59</td>\n",
              "      <td>-22</td>\n",
              "      <td>-67</td>\n",
              "      <td>189</td>\n",
              "      <td>81</td>\n",
              "      <td>17</td>\n",
              "      <td>-27</td>\n",
              "      <td>-89</td>\n",
              "      <td>-67</td>\n",
              "      <td>105</td>\n",
              "      <td>-116</td>\n",
              "      <td>124</td>\n",
              "      <td>-106</td>\n",
              "      <td>5</td>\n",
              "      <td>-120</td>\n",
              "      <td>63</td>\n",
              "      <td>-165</td>\n",
              "      <td>...</td>\n",
              "      <td>81</td>\n",
              "      <td>-114</td>\n",
              "      <td>-187</td>\n",
              "      <td>45</td>\n",
              "      <td>-118</td>\n",
              "      <td>-75</td>\n",
              "      <td>-182</td>\n",
              "      <td>-234</td>\n",
              "      <td>-19</td>\n",
              "      <td>12</td>\n",
              "      <td>-13</td>\n",
              "      <td>-41</td>\n",
              "      <td>-119</td>\n",
              "      <td>-149</td>\n",
              "      <td>70</td>\n",
              "      <td>17</td>\n",
              "      <td>-20</td>\n",
              "      <td>-177</td>\n",
              "      <td>-101</td>\n",
              "      <td>-116</td>\n",
              "      <td>-14</td>\n",
              "      <td>-50</td>\n",
              "      <td>24</td>\n",
              "      <td>-81</td>\n",
              "      <td>-125</td>\n",
              "      <td>-114</td>\n",
              "      <td>-44</td>\n",
              "      <td>128</td>\n",
              "      <td>3</td>\n",
              "      <td>-244</td>\n",
              "      <td>-308</td>\n",
              "      <td>52</td>\n",
              "      <td>-7</td>\n",
              "      <td>39</td>\n",
              "      <td>126</td>\n",
              "      <td>156</td>\n",
              "      <td>-50</td>\n",
              "      <td>-112</td>\n",
              "      <td>96</td>\n",
              "      <td>1</td>\n",
              "    </tr>\n",
              "    <tr>\n",
              "      <th>1</th>\n",
              "      <td>2</td>\n",
              "      <td>MUSK-211</td>\n",
              "      <td>211_1+10</td>\n",
              "      <td>41</td>\n",
              "      <td>-188</td>\n",
              "      <td>-145</td>\n",
              "      <td>22</td>\n",
              "      <td>-117</td>\n",
              "      <td>-6</td>\n",
              "      <td>57</td>\n",
              "      <td>-171</td>\n",
              "      <td>-39</td>\n",
              "      <td>-100</td>\n",
              "      <td>-319</td>\n",
              "      <td>-111</td>\n",
              "      <td>-228</td>\n",
              "      <td>-281</td>\n",
              "      <td>-281</td>\n",
              "      <td>-300</td>\n",
              "      <td>54</td>\n",
              "      <td>-149</td>\n",
              "      <td>-98</td>\n",
              "      <td>-196</td>\n",
              "      <td>-27</td>\n",
              "      <td>-22</td>\n",
              "      <td>2</td>\n",
              "      <td>75</td>\n",
              "      <td>49</td>\n",
              "      <td>-34</td>\n",
              "      <td>45</td>\n",
              "      <td>-91</td>\n",
              "      <td>32</td>\n",
              "      <td>95</td>\n",
              "      <td>-116</td>\n",
              "      <td>85</td>\n",
              "      <td>-23</td>\n",
              "      <td>42</td>\n",
              "      <td>-58</td>\n",
              "      <td>61</td>\n",
              "      <td>-171</td>\n",
              "      <td>...</td>\n",
              "      <td>88</td>\n",
              "      <td>-21</td>\n",
              "      <td>-32</td>\n",
              "      <td>32</td>\n",
              "      <td>-128</td>\n",
              "      <td>-72</td>\n",
              "      <td>-124</td>\n",
              "      <td>-218</td>\n",
              "      <td>-94</td>\n",
              "      <td>53</td>\n",
              "      <td>-79</td>\n",
              "      <td>-20</td>\n",
              "      <td>-35</td>\n",
              "      <td>-26</td>\n",
              "      <td>4</td>\n",
              "      <td>50</td>\n",
              "      <td>17</td>\n",
              "      <td>-177</td>\n",
              "      <td>-102</td>\n",
              "      <td>-121</td>\n",
              "      <td>-66</td>\n",
              "      <td>-77</td>\n",
              "      <td>51</td>\n",
              "      <td>-41</td>\n",
              "      <td>-34</td>\n",
              "      <td>-32</td>\n",
              "      <td>-63</td>\n",
              "      <td>115</td>\n",
              "      <td>-5</td>\n",
              "      <td>-235</td>\n",
              "      <td>-59</td>\n",
              "      <td>-2</td>\n",
              "      <td>52</td>\n",
              "      <td>103</td>\n",
              "      <td>136</td>\n",
              "      <td>169</td>\n",
              "      <td>-61</td>\n",
              "      <td>-136</td>\n",
              "      <td>79</td>\n",
              "      <td>1</td>\n",
              "    </tr>\n",
              "    <tr>\n",
              "      <th>2</th>\n",
              "      <td>3</td>\n",
              "      <td>MUSK-211</td>\n",
              "      <td>211_1+11</td>\n",
              "      <td>46</td>\n",
              "      <td>-194</td>\n",
              "      <td>-145</td>\n",
              "      <td>28</td>\n",
              "      <td>-117</td>\n",
              "      <td>73</td>\n",
              "      <td>57</td>\n",
              "      <td>-168</td>\n",
              "      <td>-39</td>\n",
              "      <td>-22</td>\n",
              "      <td>-319</td>\n",
              "      <td>-111</td>\n",
              "      <td>-104</td>\n",
              "      <td>-283</td>\n",
              "      <td>-282</td>\n",
              "      <td>-303</td>\n",
              "      <td>52</td>\n",
              "      <td>-152</td>\n",
              "      <td>-97</td>\n",
              "      <td>-225</td>\n",
              "      <td>-28</td>\n",
              "      <td>-22</td>\n",
              "      <td>2</td>\n",
              "      <td>179</td>\n",
              "      <td>49</td>\n",
              "      <td>-33</td>\n",
              "      <td>46</td>\n",
              "      <td>-88</td>\n",
              "      <td>22</td>\n",
              "      <td>79</td>\n",
              "      <td>-116</td>\n",
              "      <td>19</td>\n",
              "      <td>-11</td>\n",
              "      <td>6</td>\n",
              "      <td>-38</td>\n",
              "      <td>71</td>\n",
              "      <td>-175</td>\n",
              "      <td>...</td>\n",
              "      <td>64</td>\n",
              "      <td>0</td>\n",
              "      <td>-23</td>\n",
              "      <td>-15</td>\n",
              "      <td>-129</td>\n",
              "      <td>-74</td>\n",
              "      <td>-125</td>\n",
              "      <td>-221</td>\n",
              "      <td>-93</td>\n",
              "      <td>53</td>\n",
              "      <td>-72</td>\n",
              "      <td>-19</td>\n",
              "      <td>-33</td>\n",
              "      <td>-26</td>\n",
              "      <td>3</td>\n",
              "      <td>49</td>\n",
              "      <td>17</td>\n",
              "      <td>-177</td>\n",
              "      <td>-102</td>\n",
              "      <td>-119</td>\n",
              "      <td>-66</td>\n",
              "      <td>-81</td>\n",
              "      <td>51</td>\n",
              "      <td>-41</td>\n",
              "      <td>-27</td>\n",
              "      <td>-41</td>\n",
              "      <td>-140</td>\n",
              "      <td>77</td>\n",
              "      <td>-163</td>\n",
              "      <td>-238</td>\n",
              "      <td>-134</td>\n",
              "      <td>-154</td>\n",
              "      <td>57</td>\n",
              "      <td>143</td>\n",
              "      <td>142</td>\n",
              "      <td>165</td>\n",
              "      <td>-67</td>\n",
              "      <td>-145</td>\n",
              "      <td>39</td>\n",
              "      <td>1</td>\n",
              "    </tr>\n",
              "    <tr>\n",
              "      <th>3</th>\n",
              "      <td>4</td>\n",
              "      <td>MUSK-211</td>\n",
              "      <td>211_1+12</td>\n",
              "      <td>41</td>\n",
              "      <td>-188</td>\n",
              "      <td>-145</td>\n",
              "      <td>22</td>\n",
              "      <td>-117</td>\n",
              "      <td>-7</td>\n",
              "      <td>57</td>\n",
              "      <td>-170</td>\n",
              "      <td>-39</td>\n",
              "      <td>-99</td>\n",
              "      <td>-319</td>\n",
              "      <td>-111</td>\n",
              "      <td>-228</td>\n",
              "      <td>-282</td>\n",
              "      <td>-281</td>\n",
              "      <td>-301</td>\n",
              "      <td>54</td>\n",
              "      <td>-150</td>\n",
              "      <td>-98</td>\n",
              "      <td>-196</td>\n",
              "      <td>-28</td>\n",
              "      <td>-22</td>\n",
              "      <td>2</td>\n",
              "      <td>77</td>\n",
              "      <td>48</td>\n",
              "      <td>-34</td>\n",
              "      <td>46</td>\n",
              "      <td>-91</td>\n",
              "      <td>32</td>\n",
              "      <td>94</td>\n",
              "      <td>-116</td>\n",
              "      <td>84</td>\n",
              "      <td>-23</td>\n",
              "      <td>41</td>\n",
              "      <td>-58</td>\n",
              "      <td>62</td>\n",
              "      <td>-171</td>\n",
              "      <td>...</td>\n",
              "      <td>88</td>\n",
              "      <td>-20</td>\n",
              "      <td>-32</td>\n",
              "      <td>32</td>\n",
              "      <td>-128</td>\n",
              "      <td>-73</td>\n",
              "      <td>-125</td>\n",
              "      <td>-220</td>\n",
              "      <td>-93</td>\n",
              "      <td>53</td>\n",
              "      <td>-78</td>\n",
              "      <td>-19</td>\n",
              "      <td>-34</td>\n",
              "      <td>-26</td>\n",
              "      <td>4</td>\n",
              "      <td>50</td>\n",
              "      <td>17</td>\n",
              "      <td>-177</td>\n",
              "      <td>-101</td>\n",
              "      <td>-121</td>\n",
              "      <td>-65</td>\n",
              "      <td>-77</td>\n",
              "      <td>52</td>\n",
              "      <td>-41</td>\n",
              "      <td>-34</td>\n",
              "      <td>-32</td>\n",
              "      <td>-66</td>\n",
              "      <td>115</td>\n",
              "      <td>-7</td>\n",
              "      <td>-236</td>\n",
              "      <td>-60</td>\n",
              "      <td>-4</td>\n",
              "      <td>52</td>\n",
              "      <td>104</td>\n",
              "      <td>136</td>\n",
              "      <td>168</td>\n",
              "      <td>-60</td>\n",
              "      <td>-135</td>\n",
              "      <td>80</td>\n",
              "      <td>1</td>\n",
              "    </tr>\n",
              "    <tr>\n",
              "      <th>4</th>\n",
              "      <td>5</td>\n",
              "      <td>MUSK-211</td>\n",
              "      <td>211_1+13</td>\n",
              "      <td>41</td>\n",
              "      <td>-188</td>\n",
              "      <td>-145</td>\n",
              "      <td>22</td>\n",
              "      <td>-117</td>\n",
              "      <td>-7</td>\n",
              "      <td>57</td>\n",
              "      <td>-170</td>\n",
              "      <td>-39</td>\n",
              "      <td>-99</td>\n",
              "      <td>-319</td>\n",
              "      <td>-111</td>\n",
              "      <td>-228</td>\n",
              "      <td>-282</td>\n",
              "      <td>-281</td>\n",
              "      <td>-301</td>\n",
              "      <td>54</td>\n",
              "      <td>-150</td>\n",
              "      <td>-98</td>\n",
              "      <td>-196</td>\n",
              "      <td>-28</td>\n",
              "      <td>-22</td>\n",
              "      <td>2</td>\n",
              "      <td>78</td>\n",
              "      <td>48</td>\n",
              "      <td>-34</td>\n",
              "      <td>46</td>\n",
              "      <td>-91</td>\n",
              "      <td>31</td>\n",
              "      <td>94</td>\n",
              "      <td>-116</td>\n",
              "      <td>84</td>\n",
              "      <td>-23</td>\n",
              "      <td>41</td>\n",
              "      <td>-58</td>\n",
              "      <td>62</td>\n",
              "      <td>-171</td>\n",
              "      <td>...</td>\n",
              "      <td>88</td>\n",
              "      <td>-20</td>\n",
              "      <td>-32</td>\n",
              "      <td>32</td>\n",
              "      <td>-128</td>\n",
              "      <td>-73</td>\n",
              "      <td>-125</td>\n",
              "      <td>-220</td>\n",
              "      <td>-93</td>\n",
              "      <td>53</td>\n",
              "      <td>-78</td>\n",
              "      <td>-19</td>\n",
              "      <td>-34</td>\n",
              "      <td>-26</td>\n",
              "      <td>4</td>\n",
              "      <td>50</td>\n",
              "      <td>17</td>\n",
              "      <td>-177</td>\n",
              "      <td>-101</td>\n",
              "      <td>-121</td>\n",
              "      <td>-65</td>\n",
              "      <td>-76</td>\n",
              "      <td>52</td>\n",
              "      <td>-41</td>\n",
              "      <td>-34</td>\n",
              "      <td>-32</td>\n",
              "      <td>-66</td>\n",
              "      <td>115</td>\n",
              "      <td>-8</td>\n",
              "      <td>-236</td>\n",
              "      <td>-60</td>\n",
              "      <td>-4</td>\n",
              "      <td>52</td>\n",
              "      <td>104</td>\n",
              "      <td>137</td>\n",
              "      <td>168</td>\n",
              "      <td>-60</td>\n",
              "      <td>-135</td>\n",
              "      <td>80</td>\n",
              "      <td>1</td>\n",
              "    </tr>\n",
              "  </tbody>\n",
              "</table>\n",
              "<p>5 rows × 170 columns</p>\n",
              "</div>"
            ],
            "text/plain": [
              "   ID molecule_name conformation_name  f1   f2  ...  f163  f164  f165  f166  class\n",
              "0   1      MUSK-211           211_1+1  46 -108  ...   156   -50  -112    96      1\n",
              "1   2      MUSK-211          211_1+10  41 -188  ...   169   -61  -136    79      1\n",
              "2   3      MUSK-211          211_1+11  46 -194  ...   165   -67  -145    39      1\n",
              "3   4      MUSK-211          211_1+12  41 -188  ...   168   -60  -135    80      1\n",
              "4   5      MUSK-211          211_1+13  41 -188  ...   168   -60  -135    80      1\n",
              "\n",
              "[5 rows x 170 columns]"
            ]
          },
          "metadata": {
            "tags": []
          },
          "execution_count": 7
        }
      ]
    },
    {
      "cell_type": "markdown",
      "metadata": {
        "id": "9QvhufGhalbl"
      },
      "source": [
        "Find the shape of the data"
      ]
    },
    {
      "cell_type": "code",
      "metadata": {
        "colab": {
          "base_uri": "https://localhost:8080/"
        },
        "id": "tHXWc6DieRP3",
        "outputId": "b9fe7b93-a3ef-4356-afc3-b89d402e7271"
      },
      "source": [
        "data.shape"
      ],
      "execution_count": 8,
      "outputs": [
        {
          "output_type": "execute_result",
          "data": {
            "text/plain": [
              "(6598, 170)"
            ]
          },
          "metadata": {
            "tags": []
          },
          "execution_count": 8
        }
      ]
    },
    {
      "cell_type": "code",
      "metadata": {
        "colab": {
          "base_uri": "https://localhost:8080/"
        },
        "id": "AyGZJLYVmwj3",
        "outputId": "4686c3a4-2559-4cf7-cb7f-09faf5a25ef8"
      },
      "source": [
        "data.info()"
      ],
      "execution_count": 9,
      "outputs": [
        {
          "output_type": "stream",
          "text": [
            "<class 'pandas.core.frame.DataFrame'>\n",
            "RangeIndex: 6598 entries, 0 to 6597\n",
            "Columns: 170 entries, ID to class\n",
            "dtypes: int64(168), object(2)\n",
            "memory usage: 8.6+ MB\n"
          ],
          "name": "stdout"
        }
      ]
    },
    {
      "cell_type": "code",
      "metadata": {
        "colab": {
          "base_uri": "https://localhost:8080/",
          "height": 346
        },
        "id": "doIfRMfMndVU",
        "outputId": "e64606e3-aaee-414c-cf44-78628e84898a"
      },
      "source": [
        "#Describe the dataset\n",
        "data.describe()"
      ],
      "execution_count": 10,
      "outputs": [
        {
          "output_type": "execute_result",
          "data": {
            "text/html": [
              "<div>\n",
              "<style scoped>\n",
              "    .dataframe tbody tr th:only-of-type {\n",
              "        vertical-align: middle;\n",
              "    }\n",
              "\n",
              "    .dataframe tbody tr th {\n",
              "        vertical-align: top;\n",
              "    }\n",
              "\n",
              "    .dataframe thead th {\n",
              "        text-align: right;\n",
              "    }\n",
              "</style>\n",
              "<table border=\"1\" class=\"dataframe\">\n",
              "  <thead>\n",
              "    <tr style=\"text-align: right;\">\n",
              "      <th></th>\n",
              "      <th>ID</th>\n",
              "      <th>f1</th>\n",
              "      <th>f2</th>\n",
              "      <th>f3</th>\n",
              "      <th>f4</th>\n",
              "      <th>f5</th>\n",
              "      <th>f6</th>\n",
              "      <th>f7</th>\n",
              "      <th>f8</th>\n",
              "      <th>f9</th>\n",
              "      <th>f10</th>\n",
              "      <th>f11</th>\n",
              "      <th>f12</th>\n",
              "      <th>f13</th>\n",
              "      <th>f14</th>\n",
              "      <th>f15</th>\n",
              "      <th>f16</th>\n",
              "      <th>f17</th>\n",
              "      <th>f18</th>\n",
              "      <th>f19</th>\n",
              "      <th>f20</th>\n",
              "      <th>f21</th>\n",
              "      <th>f22</th>\n",
              "      <th>f23</th>\n",
              "      <th>f24</th>\n",
              "      <th>f25</th>\n",
              "      <th>f26</th>\n",
              "      <th>f27</th>\n",
              "      <th>f28</th>\n",
              "      <th>f29</th>\n",
              "      <th>f30</th>\n",
              "      <th>f31</th>\n",
              "      <th>f32</th>\n",
              "      <th>f33</th>\n",
              "      <th>f34</th>\n",
              "      <th>f35</th>\n",
              "      <th>f36</th>\n",
              "      <th>f37</th>\n",
              "      <th>f38</th>\n",
              "      <th>f39</th>\n",
              "      <th>...</th>\n",
              "      <th>f128</th>\n",
              "      <th>f129</th>\n",
              "      <th>f130</th>\n",
              "      <th>f131</th>\n",
              "      <th>f132</th>\n",
              "      <th>f133</th>\n",
              "      <th>f134</th>\n",
              "      <th>f135</th>\n",
              "      <th>f136</th>\n",
              "      <th>f137</th>\n",
              "      <th>f138</th>\n",
              "      <th>f139</th>\n",
              "      <th>f140</th>\n",
              "      <th>f141</th>\n",
              "      <th>f142</th>\n",
              "      <th>f143</th>\n",
              "      <th>f144</th>\n",
              "      <th>f145</th>\n",
              "      <th>f146</th>\n",
              "      <th>f147</th>\n",
              "      <th>f148</th>\n",
              "      <th>f149</th>\n",
              "      <th>f150</th>\n",
              "      <th>f151</th>\n",
              "      <th>f152</th>\n",
              "      <th>f153</th>\n",
              "      <th>f154</th>\n",
              "      <th>f155</th>\n",
              "      <th>f156</th>\n",
              "      <th>f157</th>\n",
              "      <th>f158</th>\n",
              "      <th>f159</th>\n",
              "      <th>f160</th>\n",
              "      <th>f161</th>\n",
              "      <th>f162</th>\n",
              "      <th>f163</th>\n",
              "      <th>f164</th>\n",
              "      <th>f165</th>\n",
              "      <th>f166</th>\n",
              "      <th>class</th>\n",
              "    </tr>\n",
              "  </thead>\n",
              "  <tbody>\n",
              "    <tr>\n",
              "      <th>count</th>\n",
              "      <td>6598.00000</td>\n",
              "      <td>6598.000000</td>\n",
              "      <td>6598.000000</td>\n",
              "      <td>6598.000000</td>\n",
              "      <td>6598.000000</td>\n",
              "      <td>6598.000000</td>\n",
              "      <td>6598.000000</td>\n",
              "      <td>6598.000000</td>\n",
              "      <td>6598.000000</td>\n",
              "      <td>6598.000000</td>\n",
              "      <td>6598.000000</td>\n",
              "      <td>6598.000000</td>\n",
              "      <td>6598.000000</td>\n",
              "      <td>6598.000000</td>\n",
              "      <td>6598.000000</td>\n",
              "      <td>6598.000000</td>\n",
              "      <td>6598.000000</td>\n",
              "      <td>6598.000000</td>\n",
              "      <td>6598.000000</td>\n",
              "      <td>6598.000000</td>\n",
              "      <td>6598.000000</td>\n",
              "      <td>6598.000000</td>\n",
              "      <td>6598.000000</td>\n",
              "      <td>6598.000000</td>\n",
              "      <td>6598.000000</td>\n",
              "      <td>6598.000000</td>\n",
              "      <td>6598.000000</td>\n",
              "      <td>6598.000000</td>\n",
              "      <td>6598.000000</td>\n",
              "      <td>6598.000000</td>\n",
              "      <td>6598.000000</td>\n",
              "      <td>6598.000000</td>\n",
              "      <td>6598.000000</td>\n",
              "      <td>6598.000000</td>\n",
              "      <td>6598.000000</td>\n",
              "      <td>6598.000000</td>\n",
              "      <td>6598.000000</td>\n",
              "      <td>6598.000000</td>\n",
              "      <td>6598.000000</td>\n",
              "      <td>6598.000000</td>\n",
              "      <td>...</td>\n",
              "      <td>6598.000000</td>\n",
              "      <td>6598.000000</td>\n",
              "      <td>6598.000000</td>\n",
              "      <td>6598.000000</td>\n",
              "      <td>6598.000000</td>\n",
              "      <td>6598.000000</td>\n",
              "      <td>6598.000000</td>\n",
              "      <td>6598.000000</td>\n",
              "      <td>6598.000000</td>\n",
              "      <td>6598.000000</td>\n",
              "      <td>6598.000000</td>\n",
              "      <td>6598.000000</td>\n",
              "      <td>6598.000000</td>\n",
              "      <td>6598.000000</td>\n",
              "      <td>6598.000000</td>\n",
              "      <td>6598.000000</td>\n",
              "      <td>6598.000000</td>\n",
              "      <td>6598.000000</td>\n",
              "      <td>6598.000000</td>\n",
              "      <td>6598.000000</td>\n",
              "      <td>6598.000000</td>\n",
              "      <td>6598.000000</td>\n",
              "      <td>6598.000000</td>\n",
              "      <td>6598.000000</td>\n",
              "      <td>6598.000000</td>\n",
              "      <td>6598.000000</td>\n",
              "      <td>6598.000000</td>\n",
              "      <td>6598.000000</td>\n",
              "      <td>6598.000000</td>\n",
              "      <td>6598.000000</td>\n",
              "      <td>6598.000000</td>\n",
              "      <td>6598.000000</td>\n",
              "      <td>6598.000000</td>\n",
              "      <td>6598.000000</td>\n",
              "      <td>6598.000000</td>\n",
              "      <td>6598.000000</td>\n",
              "      <td>6598.000000</td>\n",
              "      <td>6598.000000</td>\n",
              "      <td>6598.000000</td>\n",
              "      <td>6598.000000</td>\n",
              "    </tr>\n",
              "    <tr>\n",
              "      <th>mean</th>\n",
              "      <td>3299.50000</td>\n",
              "      <td>58.945135</td>\n",
              "      <td>-119.128524</td>\n",
              "      <td>-73.146560</td>\n",
              "      <td>-0.628372</td>\n",
              "      <td>-103.533495</td>\n",
              "      <td>18.359806</td>\n",
              "      <td>-14.108821</td>\n",
              "      <td>-1.858290</td>\n",
              "      <td>-86.003031</td>\n",
              "      <td>-44.495756</td>\n",
              "      <td>-119.456502</td>\n",
              "      <td>-84.929221</td>\n",
              "      <td>-61.911185</td>\n",
              "      <td>-127.935283</td>\n",
              "      <td>-123.005153</td>\n",
              "      <td>-265.690967</td>\n",
              "      <td>-53.415732</td>\n",
              "      <td>-67.741285</td>\n",
              "      <td>-52.352531</td>\n",
              "      <td>-44.902698</td>\n",
              "      <td>-75.645953</td>\n",
              "      <td>-55.783419</td>\n",
              "      <td>-61.619127</td>\n",
              "      <td>72.506062</td>\n",
              "      <td>32.285238</td>\n",
              "      <td>-69.659139</td>\n",
              "      <td>-15.361018</td>\n",
              "      <td>-102.665959</td>\n",
              "      <td>8.520764</td>\n",
              "      <td>12.553956</td>\n",
              "      <td>-82.314186</td>\n",
              "      <td>25.436193</td>\n",
              "      <td>-34.503183</td>\n",
              "      <td>-78.915732</td>\n",
              "      <td>-73.199000</td>\n",
              "      <td>115.882995</td>\n",
              "      <td>-115.562746</td>\n",
              "      <td>-7.853289</td>\n",
              "      <td>-75.578509</td>\n",
              "      <td>...</td>\n",
              "      <td>-19.476811</td>\n",
              "      <td>-68.070627</td>\n",
              "      <td>-94.963474</td>\n",
              "      <td>2.993786</td>\n",
              "      <td>-36.652774</td>\n",
              "      <td>-79.191422</td>\n",
              "      <td>-90.778266</td>\n",
              "      <td>-95.868142</td>\n",
              "      <td>-28.259473</td>\n",
              "      <td>-8.521067</td>\n",
              "      <td>-37.599121</td>\n",
              "      <td>-67.789330</td>\n",
              "      <td>-51.976508</td>\n",
              "      <td>-65.693089</td>\n",
              "      <td>-0.443165</td>\n",
              "      <td>1.331464</td>\n",
              "      <td>-21.754319</td>\n",
              "      <td>-165.748863</td>\n",
              "      <td>-87.364050</td>\n",
              "      <td>-113.114580</td>\n",
              "      <td>-18.523644</td>\n",
              "      <td>-41.386481</td>\n",
              "      <td>8.755077</td>\n",
              "      <td>-55.026069</td>\n",
              "      <td>-61.105335</td>\n",
              "      <td>-54.810397</td>\n",
              "      <td>-76.831161</td>\n",
              "      <td>33.209912</td>\n",
              "      <td>-61.212337</td>\n",
              "      <td>-210.975447</td>\n",
              "      <td>-184.798272</td>\n",
              "      <td>-75.795696</td>\n",
              "      <td>-26.073204</td>\n",
              "      <td>64.616702</td>\n",
              "      <td>112.037739</td>\n",
              "      <td>201.760230</td>\n",
              "      <td>-47.488330</td>\n",
              "      <td>-150.259927</td>\n",
              "      <td>41.770233</td>\n",
              "      <td>0.154138</td>\n",
              "    </tr>\n",
              "    <tr>\n",
              "      <th>std</th>\n",
              "      <td>1904.82287</td>\n",
              "      <td>53.249007</td>\n",
              "      <td>90.813375</td>\n",
              "      <td>67.956235</td>\n",
              "      <td>80.444617</td>\n",
              "      <td>64.387559</td>\n",
              "      <td>80.593655</td>\n",
              "      <td>115.315673</td>\n",
              "      <td>90.372537</td>\n",
              "      <td>108.326676</td>\n",
              "      <td>72.088903</td>\n",
              "      <td>108.911397</td>\n",
              "      <td>79.541410</td>\n",
              "      <td>61.444281</td>\n",
              "      <td>101.191126</td>\n",
              "      <td>98.009158</td>\n",
              "      <td>70.647329</td>\n",
              "      <td>117.237608</td>\n",
              "      <td>61.403085</td>\n",
              "      <td>82.503477</td>\n",
              "      <td>79.304489</td>\n",
              "      <td>75.187995</td>\n",
              "      <td>101.908604</td>\n",
              "      <td>94.524709</td>\n",
              "      <td>123.334433</td>\n",
              "      <td>108.105908</td>\n",
              "      <td>101.325550</td>\n",
              "      <td>91.621335</td>\n",
              "      <td>73.778232</td>\n",
              "      <td>63.484770</td>\n",
              "      <td>126.086157</td>\n",
              "      <td>80.225924</td>\n",
              "      <td>106.627993</td>\n",
              "      <td>57.816952</td>\n",
              "      <td>118.201270</td>\n",
              "      <td>75.350809</td>\n",
              "      <td>57.070192</td>\n",
              "      <td>104.682519</td>\n",
              "      <td>85.732778</td>\n",
              "      <td>70.534415</td>\n",
              "      <td>...</td>\n",
              "      <td>130.607205</td>\n",
              "      <td>70.016546</td>\n",
              "      <td>98.100733</td>\n",
              "      <td>60.633027</td>\n",
              "      <td>84.316386</td>\n",
              "      <td>61.733776</td>\n",
              "      <td>68.098995</td>\n",
              "      <td>87.253395</td>\n",
              "      <td>61.664300</td>\n",
              "      <td>97.997434</td>\n",
              "      <td>77.580190</td>\n",
              "      <td>94.753428</td>\n",
              "      <td>64.344336</td>\n",
              "      <td>69.094605</td>\n",
              "      <td>82.410293</td>\n",
              "      <td>103.746483</td>\n",
              "      <td>103.113954</td>\n",
              "      <td>54.087579</td>\n",
              "      <td>51.177725</td>\n",
              "      <td>21.463582</td>\n",
              "      <td>63.048333</td>\n",
              "      <td>73.864481</td>\n",
              "      <td>83.274158</td>\n",
              "      <td>60.100098</td>\n",
              "      <td>70.788743</td>\n",
              "      <td>67.538140</td>\n",
              "      <td>76.908685</td>\n",
              "      <td>98.511502</td>\n",
              "      <td>97.547356</td>\n",
              "      <td>83.710890</td>\n",
              "      <td>107.819514</td>\n",
              "      <td>127.861271</td>\n",
              "      <td>69.727964</td>\n",
              "      <td>100.861935</td>\n",
              "      <td>72.835040</td>\n",
              "      <td>59.526751</td>\n",
              "      <td>55.069365</td>\n",
              "      <td>76.019023</td>\n",
              "      <td>94.116085</td>\n",
              "      <td>0.361108</td>\n",
              "    </tr>\n",
              "    <tr>\n",
              "      <th>min</th>\n",
              "      <td>1.00000</td>\n",
              "      <td>-31.000000</td>\n",
              "      <td>-199.000000</td>\n",
              "      <td>-167.000000</td>\n",
              "      <td>-114.000000</td>\n",
              "      <td>-118.000000</td>\n",
              "      <td>-183.000000</td>\n",
              "      <td>-171.000000</td>\n",
              "      <td>-225.000000</td>\n",
              "      <td>-245.000000</td>\n",
              "      <td>-286.000000</td>\n",
              "      <td>-328.000000</td>\n",
              "      <td>-321.000000</td>\n",
              "      <td>-305.000000</td>\n",
              "      <td>-342.000000</td>\n",
              "      <td>-294.000000</td>\n",
              "      <td>-327.000000</td>\n",
              "      <td>-224.000000</td>\n",
              "      <td>-308.000000</td>\n",
              "      <td>-286.000000</td>\n",
              "      <td>-252.000000</td>\n",
              "      <td>-295.000000</td>\n",
              "      <td>-185.000000</td>\n",
              "      <td>-253.000000</td>\n",
              "      <td>-76.000000</td>\n",
              "      <td>-100.000000</td>\n",
              "      <td>-242.000000</td>\n",
              "      <td>-205.000000</td>\n",
              "      <td>-166.000000</td>\n",
              "      <td>-142.000000</td>\n",
              "      <td>-162.000000</td>\n",
              "      <td>-117.000000</td>\n",
              "      <td>-143.000000</td>\n",
              "      <td>-139.000000</td>\n",
              "      <td>-279.000000</td>\n",
              "      <td>-160.000000</td>\n",
              "      <td>-7.000000</td>\n",
              "      <td>-175.000000</td>\n",
              "      <td>-190.000000</td>\n",
              "      <td>-148.000000</td>\n",
              "      <td>...</td>\n",
              "      <td>-221.000000</td>\n",
              "      <td>-307.000000</td>\n",
              "      <td>-189.000000</td>\n",
              "      <td>-123.000000</td>\n",
              "      <td>-140.000000</td>\n",
              "      <td>-319.000000</td>\n",
              "      <td>-338.000000</td>\n",
              "      <td>-336.000000</td>\n",
              "      <td>-196.000000</td>\n",
              "      <td>-197.000000</td>\n",
              "      <td>-199.000000</td>\n",
              "      <td>-243.000000</td>\n",
              "      <td>-283.000000</td>\n",
              "      <td>-290.000000</td>\n",
              "      <td>-185.000000</td>\n",
              "      <td>-157.000000</td>\n",
              "      <td>-171.000000</td>\n",
              "      <td>-179.000000</td>\n",
              "      <td>-106.000000</td>\n",
              "      <td>-136.000000</td>\n",
              "      <td>-200.000000</td>\n",
              "      <td>-213.000000</td>\n",
              "      <td>-190.000000</td>\n",
              "      <td>-140.000000</td>\n",
              "      <td>-128.000000</td>\n",
              "      <td>-114.000000</td>\n",
              "      <td>-173.000000</td>\n",
              "      <td>-143.000000</td>\n",
              "      <td>-198.000000</td>\n",
              "      <td>-257.000000</td>\n",
              "      <td>-328.000000</td>\n",
              "      <td>-219.000000</td>\n",
              "      <td>-136.000000</td>\n",
              "      <td>-120.000000</td>\n",
              "      <td>-69.000000</td>\n",
              "      <td>73.000000</td>\n",
              "      <td>-289.000000</td>\n",
              "      <td>-428.000000</td>\n",
              "      <td>-471.000000</td>\n",
              "      <td>0.000000</td>\n",
              "    </tr>\n",
              "    <tr>\n",
              "      <th>25%</th>\n",
              "      <td>1650.25000</td>\n",
              "      <td>37.000000</td>\n",
              "      <td>-193.000000</td>\n",
              "      <td>-137.000000</td>\n",
              "      <td>-70.000000</td>\n",
              "      <td>-117.000000</td>\n",
              "      <td>-28.000000</td>\n",
              "      <td>-159.000000</td>\n",
              "      <td>-85.000000</td>\n",
              "      <td>-217.000000</td>\n",
              "      <td>-96.750000</td>\n",
              "      <td>-207.000000</td>\n",
              "      <td>-114.000000</td>\n",
              "      <td>-85.000000</td>\n",
              "      <td>-199.750000</td>\n",
              "      <td>-195.000000</td>\n",
              "      <td>-301.000000</td>\n",
              "      <td>-177.000000</td>\n",
              "      <td>-85.000000</td>\n",
              "      <td>-98.000000</td>\n",
              "      <td>-60.000000</td>\n",
              "      <td>-118.000000</td>\n",
              "      <td>-180.000000</td>\n",
              "      <td>-154.000000</td>\n",
              "      <td>-61.000000</td>\n",
              "      <td>-95.000000</td>\n",
              "      <td>-182.000000</td>\n",
              "      <td>-105.000000</td>\n",
              "      <td>-154.000000</td>\n",
              "      <td>-44.000000</td>\n",
              "      <td>-135.000000</td>\n",
              "      <td>-116.000000</td>\n",
              "      <td>-91.000000</td>\n",
              "      <td>-81.000000</td>\n",
              "      <td>-211.000000</td>\n",
              "      <td>-136.000000</td>\n",
              "      <td>78.000000</td>\n",
              "      <td>-174.000000</td>\n",
              "      <td>-82.000000</td>\n",
              "      <td>-144.000000</td>\n",
              "      <td>...</td>\n",
              "      <td>-170.000000</td>\n",
              "      <td>-112.000000</td>\n",
              "      <td>-187.000000</td>\n",
              "      <td>-43.000000</td>\n",
              "      <td>-115.000000</td>\n",
              "      <td>-94.000000</td>\n",
              "      <td>-126.000000</td>\n",
              "      <td>-172.000000</td>\n",
              "      <td>-84.000000</td>\n",
              "      <td>-111.750000</td>\n",
              "      <td>-88.000000</td>\n",
              "      <td>-164.000000</td>\n",
              "      <td>-71.000000</td>\n",
              "      <td>-101.000000</td>\n",
              "      <td>-83.750000</td>\n",
              "      <td>-133.000000</td>\n",
              "      <td>-156.000000</td>\n",
              "      <td>-178.000000</td>\n",
              "      <td>-103.000000</td>\n",
              "      <td>-121.000000</td>\n",
              "      <td>-59.000000</td>\n",
              "      <td>-90.000000</td>\n",
              "      <td>-45.000000</td>\n",
              "      <td>-101.000000</td>\n",
              "      <td>-123.000000</td>\n",
              "      <td>-112.000000</td>\n",
              "      <td>-166.000000</td>\n",
              "      <td>-43.000000</td>\n",
              "      <td>-183.000000</td>\n",
              "      <td>-240.000000</td>\n",
              "      <td>-272.000000</td>\n",
              "      <td>-205.000000</td>\n",
              "      <td>-70.000000</td>\n",
              "      <td>-18.000000</td>\n",
              "      <td>71.000000</td>\n",
              "      <td>166.000000</td>\n",
              "      <td>-68.000000</td>\n",
              "      <td>-179.000000</td>\n",
              "      <td>-9.000000</td>\n",
              "      <td>0.000000</td>\n",
              "    </tr>\n",
              "    <tr>\n",
              "      <th>50%</th>\n",
              "      <td>3299.50000</td>\n",
              "      <td>44.000000</td>\n",
              "      <td>-149.000000</td>\n",
              "      <td>-99.000000</td>\n",
              "      <td>-25.000000</td>\n",
              "      <td>-117.000000</td>\n",
              "      <td>33.000000</td>\n",
              "      <td>27.000000</td>\n",
              "      <td>19.000000</td>\n",
              "      <td>-40.000000</td>\n",
              "      <td>-29.000000</td>\n",
              "      <td>-83.000000</td>\n",
              "      <td>-86.000000</td>\n",
              "      <td>-66.000000</td>\n",
              "      <td>-92.000000</td>\n",
              "      <td>-89.000000</td>\n",
              "      <td>-290.000000</td>\n",
              "      <td>-53.000000</td>\n",
              "      <td>-69.000000</td>\n",
              "      <td>-39.000000</td>\n",
              "      <td>-38.000000</td>\n",
              "      <td>-63.000000</td>\n",
              "      <td>-19.000000</td>\n",
              "      <td>-41.000000</td>\n",
              "      <td>96.000000</td>\n",
              "      <td>80.000000</td>\n",
              "      <td>-35.000000</td>\n",
              "      <td>23.000000</td>\n",
              "      <td>-132.000000</td>\n",
              "      <td>9.000000</td>\n",
              "      <td>69.000000</td>\n",
              "      <td>-116.000000</td>\n",
              "      <td>11.500000</td>\n",
              "      <td>-24.000000</td>\n",
              "      <td>-32.000000</td>\n",
              "      <td>-120.000000</td>\n",
              "      <td>102.000000</td>\n",
              "      <td>-167.000000</td>\n",
              "      <td>6.000000</td>\n",
              "      <td>-104.000000</td>\n",
              "      <td>...</td>\n",
              "      <td>54.000000</td>\n",
              "      <td>-70.000000</td>\n",
              "      <td>-131.000000</td>\n",
              "      <td>18.000000</td>\n",
              "      <td>-57.500000</td>\n",
              "      <td>-78.000000</td>\n",
              "      <td>-87.000000</td>\n",
              "      <td>-80.500000</td>\n",
              "      <td>-26.000000</td>\n",
              "      <td>39.000000</td>\n",
              "      <td>-47.000000</td>\n",
              "      <td>-34.500000</td>\n",
              "      <td>-48.000000</td>\n",
              "      <td>-64.000000</td>\n",
              "      <td>12.000000</td>\n",
              "      <td>42.000000</td>\n",
              "      <td>17.000000</td>\n",
              "      <td>-178.000000</td>\n",
              "      <td>-103.000000</td>\n",
              "      <td>-119.000000</td>\n",
              "      <td>-31.000000</td>\n",
              "      <td>-52.000000</td>\n",
              "      <td>39.000000</td>\n",
              "      <td>-63.000000</td>\n",
              "      <td>-113.000000</td>\n",
              "      <td>-111.000000</td>\n",
              "      <td>-61.000000</td>\n",
              "      <td>5.000000</td>\n",
              "      <td>-31.000000</td>\n",
              "      <td>-236.000000</td>\n",
              "      <td>-234.000000</td>\n",
              "      <td>-131.000000</td>\n",
              "      <td>-21.000000</td>\n",
              "      <td>61.500000</td>\n",
              "      <td>107.000000</td>\n",
              "      <td>191.000000</td>\n",
              "      <td>-60.000000</td>\n",
              "      <td>-150.000000</td>\n",
              "      <td>27.000000</td>\n",
              "      <td>0.000000</td>\n",
              "    </tr>\n",
              "    <tr>\n",
              "      <th>75%</th>\n",
              "      <td>4948.75000</td>\n",
              "      <td>53.000000</td>\n",
              "      <td>-95.000000</td>\n",
              "      <td>-19.000000</td>\n",
              "      <td>42.000000</td>\n",
              "      <td>-116.000000</td>\n",
              "      <td>74.000000</td>\n",
              "      <td>57.000000</td>\n",
              "      <td>61.000000</td>\n",
              "      <td>-21.000000</td>\n",
              "      <td>4.000000</td>\n",
              "      <td>-46.000000</td>\n",
              "      <td>-35.000000</td>\n",
              "      <td>-45.000000</td>\n",
              "      <td>-72.000000</td>\n",
              "      <td>-73.000000</td>\n",
              "      <td>-273.000000</td>\n",
              "      <td>53.000000</td>\n",
              "      <td>-46.000000</td>\n",
              "      <td>-6.000000</td>\n",
              "      <td>-11.000000</td>\n",
              "      <td>-37.000000</td>\n",
              "      <td>-9.000000</td>\n",
              "      <td>8.000000</td>\n",
              "      <td>185.000000</td>\n",
              "      <td>109.000000</td>\n",
              "      <td>10.000000</td>\n",
              "      <td>48.000000</td>\n",
              "      <td>-85.000000</td>\n",
              "      <td>33.000000</td>\n",
              "      <td>104.000000</td>\n",
              "      <td>-108.000000</td>\n",
              "      <td>131.000000</td>\n",
              "      <td>-11.000000</td>\n",
              "      <td>14.000000</td>\n",
              "      <td>-22.000000</td>\n",
              "      <td>151.000000</td>\n",
              "      <td>-140.000000</td>\n",
              "      <td>57.000000</td>\n",
              "      <td>-25.000000</td>\n",
              "      <td>...</td>\n",
              "      <td>81.000000</td>\n",
              "      <td>-30.000000</td>\n",
              "      <td>-25.000000</td>\n",
              "      <td>37.000000</td>\n",
              "      <td>20.000000</td>\n",
              "      <td>-64.000000</td>\n",
              "      <td>-61.000000</td>\n",
              "      <td>-37.000000</td>\n",
              "      <td>-10.000000</td>\n",
              "      <td>53.000000</td>\n",
              "      <td>-16.000000</td>\n",
              "      <td>-3.000000</td>\n",
              "      <td>-33.000000</td>\n",
              "      <td>-36.000000</td>\n",
              "      <td>67.000000</td>\n",
              "      <td>78.000000</td>\n",
              "      <td>60.000000</td>\n",
              "      <td>-178.000000</td>\n",
              "      <td>-101.000000</td>\n",
              "      <td>-115.000000</td>\n",
              "      <td>15.000000</td>\n",
              "      <td>-17.000000</td>\n",
              "      <td>57.000000</td>\n",
              "      <td>-25.000000</td>\n",
              "      <td>1.000000</td>\n",
              "      <td>8.000000</td>\n",
              "      <td>-41.000000</td>\n",
              "      <td>122.000000</td>\n",
              "      <td>19.000000</td>\n",
              "      <td>-231.000000</td>\n",
              "      <td>-80.000000</td>\n",
              "      <td>52.000000</td>\n",
              "      <td>9.000000</td>\n",
              "      <td>149.000000</td>\n",
              "      <td>129.000000</td>\n",
              "      <td>215.000000</td>\n",
              "      <td>-45.000000</td>\n",
              "      <td>-120.000000</td>\n",
              "      <td>119.000000</td>\n",
              "      <td>0.000000</td>\n",
              "    </tr>\n",
              "    <tr>\n",
              "      <th>max</th>\n",
              "      <td>6598.00000</td>\n",
              "      <td>292.000000</td>\n",
              "      <td>95.000000</td>\n",
              "      <td>81.000000</td>\n",
              "      <td>161.000000</td>\n",
              "      <td>325.000000</td>\n",
              "      <td>200.000000</td>\n",
              "      <td>220.000000</td>\n",
              "      <td>320.000000</td>\n",
              "      <td>147.000000</td>\n",
              "      <td>231.000000</td>\n",
              "      <td>176.000000</td>\n",
              "      <td>184.000000</td>\n",
              "      <td>195.000000</td>\n",
              "      <td>158.000000</td>\n",
              "      <td>172.000000</td>\n",
              "      <td>80.000000</td>\n",
              "      <td>138.000000</td>\n",
              "      <td>189.000000</td>\n",
              "      <td>225.000000</td>\n",
              "      <td>227.000000</td>\n",
              "      <td>194.000000</td>\n",
              "      <td>190.000000</td>\n",
              "      <td>213.000000</td>\n",
              "      <td>317.000000</td>\n",
              "      <td>277.000000</td>\n",
              "      <td>183.000000</td>\n",
              "      <td>164.000000</td>\n",
              "      <td>145.000000</td>\n",
              "      <td>174.000000</td>\n",
              "      <td>266.000000</td>\n",
              "      <td>309.000000</td>\n",
              "      <td>310.000000</td>\n",
              "      <td>207.000000</td>\n",
              "      <td>160.000000</td>\n",
              "      <td>220.000000</td>\n",
              "      <td>324.000000</td>\n",
              "      <td>147.000000</td>\n",
              "      <td>187.000000</td>\n",
              "      <td>107.000000</td>\n",
              "      <td>...</td>\n",
              "      <td>241.000000</td>\n",
              "      <td>206.000000</td>\n",
              "      <td>122.000000</td>\n",
              "      <td>281.000000</td>\n",
              "      <td>255.000000</td>\n",
              "      <td>176.000000</td>\n",
              "      <td>169.000000</td>\n",
              "      <td>219.000000</td>\n",
              "      <td>125.000000</td>\n",
              "      <td>186.000000</td>\n",
              "      <td>130.000000</td>\n",
              "      <td>202.000000</td>\n",
              "      <td>203.000000</td>\n",
              "      <td>188.000000</td>\n",
              "      <td>184.000000</td>\n",
              "      <td>239.000000</td>\n",
              "      <td>208.000000</td>\n",
              "      <td>213.000000</td>\n",
              "      <td>261.000000</td>\n",
              "      <td>172.000000</td>\n",
              "      <td>130.000000</td>\n",
              "      <td>117.000000</td>\n",
              "      <td>185.000000</td>\n",
              "      <td>244.000000</td>\n",
              "      <td>153.000000</td>\n",
              "      <td>211.000000</td>\n",
              "      <td>120.000000</td>\n",
              "      <td>379.000000</td>\n",
              "      <td>153.000000</td>\n",
              "      <td>145.000000</td>\n",
              "      <td>94.000000</td>\n",
              "      <td>179.000000</td>\n",
              "      <td>192.000000</td>\n",
              "      <td>411.000000</td>\n",
              "      <td>355.000000</td>\n",
              "      <td>625.000000</td>\n",
              "      <td>295.000000</td>\n",
              "      <td>168.000000</td>\n",
              "      <td>367.000000</td>\n",
              "      <td>1.000000</td>\n",
              "    </tr>\n",
              "  </tbody>\n",
              "</table>\n",
              "<p>8 rows × 168 columns</p>\n",
              "</div>"
            ],
            "text/plain": [
              "               ID           f1  ...         f166        class\n",
              "count  6598.00000  6598.000000  ...  6598.000000  6598.000000\n",
              "mean   3299.50000    58.945135  ...    41.770233     0.154138\n",
              "std    1904.82287    53.249007  ...    94.116085     0.361108\n",
              "min       1.00000   -31.000000  ...  -471.000000     0.000000\n",
              "25%    1650.25000    37.000000  ...    -9.000000     0.000000\n",
              "50%    3299.50000    44.000000  ...    27.000000     0.000000\n",
              "75%    4948.75000    53.000000  ...   119.000000     0.000000\n",
              "max    6598.00000   292.000000  ...   367.000000     1.000000\n",
              "\n",
              "[8 rows x 168 columns]"
            ]
          },
          "metadata": {
            "tags": []
          },
          "execution_count": 10
        }
      ]
    },
    {
      "cell_type": "markdown",
      "metadata": {
        "id": "Czo0SAG-VTB2"
      },
      "source": [
        "# Data preprocessing"
      ]
    },
    {
      "cell_type": "markdown",
      "metadata": {
        "id": "hfcNjBLzUV-o"
      },
      "source": [
        "Find the Null values in dataset."
      ]
    },
    {
      "cell_type": "code",
      "metadata": {
        "colab": {
          "base_uri": "https://localhost:8080/"
        },
        "id": "bi3M5MfjeV2w",
        "outputId": "bb707753-a8e7-4527-a8dd-bd66714cf1dd"
      },
      "source": [
        "data.isnull().sum()"
      ],
      "execution_count": 11,
      "outputs": [
        {
          "output_type": "execute_result",
          "data": {
            "text/plain": [
              "ID                   0\n",
              "molecule_name        0\n",
              "conformation_name    0\n",
              "f1                   0\n",
              "f2                   0\n",
              "                    ..\n",
              "f163                 0\n",
              "f164                 0\n",
              "f165                 0\n",
              "f166                 0\n",
              "class                0\n",
              "Length: 170, dtype: int64"
            ]
          },
          "metadata": {
            "tags": []
          },
          "execution_count": 11
        }
      ]
    },
    {
      "cell_type": "markdown",
      "metadata": {
        "id": "ljxH8s_dUeTg"
      },
      "source": [
        "Find the duplicated rows in dataset"
      ]
    },
    {
      "cell_type": "code",
      "metadata": {
        "colab": {
          "base_uri": "https://localhost:8080/"
        },
        "id": "p4Pn3ciLentr",
        "outputId": "858cd23c-223f-458d-e5c6-5b08ebd10955"
      },
      "source": [
        "data.duplicated().sum()"
      ],
      "execution_count": 12,
      "outputs": [
        {
          "output_type": "execute_result",
          "data": {
            "text/plain": [
              "0"
            ]
          },
          "metadata": {
            "tags": []
          },
          "execution_count": 12
        }
      ]
    },
    {
      "cell_type": "code",
      "metadata": {
        "colab": {
          "base_uri": "https://localhost:8080/"
        },
        "id": "A-1iVNTKfGaT",
        "outputId": "a1c8b204-3ad8-4978-a941-364330cfa87d"
      },
      "source": [
        "#Get the length of unique values in column \"molecule_name\"\n",
        "len(data[\"molecule_name\"].unique())"
      ],
      "execution_count": 13,
      "outputs": [
        {
          "output_type": "execute_result",
          "data": {
            "text/plain": [
              "102"
            ]
          },
          "metadata": {
            "tags": []
          },
          "execution_count": 13
        }
      ]
    },
    {
      "cell_type": "code",
      "metadata": {
        "colab": {
          "base_uri": "https://localhost:8080/"
        },
        "id": "s3M_e4XKfAfv",
        "outputId": "18f842eb-b9d7-493f-bc2b-c911713d32be"
      },
      "source": [
        "#Get the length of unique values in column \"conformation_name\"\n",
        "len(data[\"conformation_name\"].unique())"
      ],
      "execution_count": 14,
      "outputs": [
        {
          "output_type": "execute_result",
          "data": {
            "text/plain": [
              "6598"
            ]
          },
          "metadata": {
            "tags": []
          },
          "execution_count": 14
        }
      ]
    },
    {
      "cell_type": "markdown",
      "metadata": {
        "id": "93jDPnSBVbqG"
      },
      "source": [
        "#### Dropping the Columns **ID** and **conformation_name**"
      ]
    },
    {
      "cell_type": "code",
      "metadata": {
        "id": "-qKWSXWPfQLK"
      },
      "source": [
        "data.drop([\"conformation_name\",\"ID\"],inplace=True,axis=1)"
      ],
      "execution_count": 15,
      "outputs": []
    },
    {
      "cell_type": "code",
      "metadata": {
        "id": "qRyUtc6-hTwr"
      },
      "source": [
        "X=data.iloc[:,:-1].values\n",
        "y=data.iloc[:,-1]"
      ],
      "execution_count": 16,
      "outputs": []
    },
    {
      "cell_type": "code",
      "metadata": {
        "colab": {
          "base_uri": "https://localhost:8080/"
        },
        "id": "lqzGMVlnhqjV",
        "outputId": "7a8f4a5d-9aa7-4a49-f987-0d2a55065c7d"
      },
      "source": [
        "X"
      ],
      "execution_count": 17,
      "outputs": [
        {
          "output_type": "execute_result",
          "data": {
            "text/plain": [
              "array([['MUSK-211', 46, -108, ..., -50, -112, 96],\n",
              "       ['MUSK-211', 41, -188, ..., -61, -136, 79],\n",
              "       ['MUSK-211', 46, -194, ..., -67, -145, 39],\n",
              "       ...,\n",
              "       ['NON-MUSK-jp13', 44, -102, ..., -66, -144, -6],\n",
              "       ['NON-MUSK-jp13', 51, -121, ..., -44, -116, 117],\n",
              "       ['NON-MUSK-jp13', 51, -122, ..., -44, -115, 118]], dtype=object)"
            ]
          },
          "metadata": {
            "tags": []
          },
          "execution_count": 17
        }
      ]
    },
    {
      "cell_type": "code",
      "metadata": {
        "colab": {
          "base_uri": "https://localhost:8080/"
        },
        "id": "G1F-aQHzhsIy",
        "outputId": "56f5e8f4-fd81-4f9b-a853-577330e98d81"
      },
      "source": [
        "y"
      ],
      "execution_count": 18,
      "outputs": [
        {
          "output_type": "execute_result",
          "data": {
            "text/plain": [
              "0       1\n",
              "1       1\n",
              "2       1\n",
              "3       1\n",
              "4       1\n",
              "       ..\n",
              "6593    0\n",
              "6594    0\n",
              "6595    0\n",
              "6596    0\n",
              "6597    0\n",
              "Name: class, Length: 6598, dtype: int64"
            ]
          },
          "metadata": {
            "tags": []
          },
          "execution_count": 18
        }
      ]
    },
    {
      "cell_type": "markdown",
      "metadata": {
        "id": "ebPi0_BxVscl"
      },
      "source": [
        "### Label Encoding\n",
        "It is a popular encoding technique for handling categorical variables. In this technique, each label is assigned a unique integer based on alphabetical ordering"
      ]
    },
    {
      "cell_type": "code",
      "metadata": {
        "id": "legNsUePht2I"
      },
      "source": [
        "from sklearn.preprocessing import LabelEncoder\n",
        "labelencoder = LabelEncoder()"
      ],
      "execution_count": 19,
      "outputs": []
    },
    {
      "cell_type": "code",
      "metadata": {
        "colab": {
          "base_uri": "https://localhost:8080/"
        },
        "id": "Lpy1NduyiJOF",
        "outputId": "490c5509-2b1a-4fa3-b702-13c38c01877f"
      },
      "source": [
        "X[:,0]=labelencoder.fit_transform(X[:, 0])\n",
        "X"
      ],
      "execution_count": 20,
      "outputs": [
        {
          "output_type": "execute_result",
          "data": {
            "text/plain": [
              "array([[0, 46, -108, ..., -50, -112, 96],\n",
              "       [0, 41, -188, ..., -61, -136, 79],\n",
              "       [0, 46, -194, ..., -67, -145, 39],\n",
              "       ...,\n",
              "       [101, 44, -102, ..., -66, -144, -6],\n",
              "       [101, 51, -121, ..., -44, -116, 117],\n",
              "       [101, 51, -122, ..., -44, -115, 118]], dtype=object)"
            ]
          },
          "metadata": {
            "tags": []
          },
          "execution_count": 20
        }
      ]
    },
    {
      "cell_type": "markdown",
      "metadata": {
        "id": "ZK4KbXN2WZkc"
      },
      "source": [
        "### Scaling the Data\n",
        "It is used to normalize the range of independent variables or features of data."
      ]
    },
    {
      "cell_type": "code",
      "metadata": {
        "id": "UP-AKD7Zmq4M"
      },
      "source": [
        "from sklearn.preprocessing import StandardScaler\n",
        "sc_X = StandardScaler()\n",
        "X = sc_X.fit_transform(X)"
      ],
      "execution_count": 21,
      "outputs": []
    },
    {
      "cell_type": "code",
      "metadata": {
        "colab": {
          "base_uri": "https://localhost:8080/"
        },
        "id": "D8_w23tjoDZj",
        "outputId": "ec43d3c3-0d50-437f-b8f2-a47cd0808769"
      },
      "source": [
        "X"
      ],
      "execution_count": 22,
      "outputs": [
        {
          "output_type": "execute_result",
          "data": {
            "text/plain": [
              "array([[-2.22097135, -0.24312408,  0.12255207, ..., -0.04561267,\n",
              "         0.50333227,  0.5762445 ],\n",
              "       [-2.22097135, -0.33702966, -0.7584422 , ..., -0.24537589,\n",
              "         0.18759789,  0.39560282],\n",
              "       [-2.22097135, -0.24312408, -0.82451677, ..., -0.35433764,\n",
              "         0.06919749, -0.02943645],\n",
              "       ...,\n",
              "       [ 1.49457534, -0.28068632,  0.18862664, ..., -0.33617735,\n",
              "         0.08235309, -0.50760562],\n",
              "       [ 1.49457534, -0.1492185 , -0.0206095 , ...,  0.06334909,\n",
              "         0.45070987,  0.79939012],\n",
              "       [ 1.49457534, -0.1492185 , -0.03162193, ...,  0.06334909,\n",
              "         0.46386547,  0.8100161 ]])"
            ]
          },
          "metadata": {
            "tags": []
          },
          "execution_count": 22
        }
      ]
    },
    {
      "cell_type": "markdown",
      "metadata": {
        "id": "4iD2BJCBWugQ"
      },
      "source": [
        "### Splitting the data into Training and Test Sets\n",
        "This technique split the data in 80:20 ratio respectively in training and test set."
      ]
    },
    {
      "cell_type": "code",
      "metadata": {
        "id": "tgWzGHl5jikC"
      },
      "source": [
        "from sklearn.model_selection import train_test_split\n",
        "X_train,X_test,y_train,y_test=train_test_split(X, y, test_size = 0.20, random_state = 0)"
      ],
      "execution_count": 23,
      "outputs": []
    },
    {
      "cell_type": "markdown",
      "metadata": {
        "id": "25tHoH3RXFJO"
      },
      "source": [
        "# Building Artificial Neural Network model"
      ]
    },
    {
      "cell_type": "code",
      "metadata": {
        "id": "DPphmGUvj39s"
      },
      "source": [
        "# Initializing\n",
        "classifier=Sequential()"
      ],
      "execution_count": 24,
      "outputs": []
    },
    {
      "cell_type": "code",
      "metadata": {
        "id": "E4Y3FLa3kmj8"
      },
      "source": [
        "classifier.add(Dense(units=64, activation='relu', kernel_initializer='uniform', input_dim=167))\n",
        "classifier.add(Dense(units=64, activation='relu', kernel_initializer='uniform'))\n",
        "classifier.add(Dense(units=1, activation='sigmoid', kernel_initializer='uniform'))"
      ],
      "execution_count": 25,
      "outputs": []
    },
    {
      "cell_type": "code",
      "metadata": {
        "id": "_YTJ8hEskbpW"
      },
      "source": [
        "#Setting the Optimizer\n",
        "opt=Adam(learning_rate=0.0001, beta_1=0.9, beta_2=0.999, amsgrad=False)"
      ],
      "execution_count": 26,
      "outputs": []
    },
    {
      "cell_type": "code",
      "metadata": {
        "id": "qs-gtbf7l_6k"
      },
      "source": [
        "# Compile Model\n",
        "classifier.compile(optimizer = opt, loss = 'binary_crossentropy', metrics = ['accuracy'])"
      ],
      "execution_count": 27,
      "outputs": []
    },
    {
      "cell_type": "code",
      "metadata": {
        "colab": {
          "base_uri": "https://localhost:8080/"
        },
        "id": "oNVwXz-SkfXg",
        "outputId": "4d684ad3-dab4-4b1c-bde7-8a3fa92610a2"
      },
      "source": [
        "# Fitting the Model\n",
        "history = classifier.fit(X_train,\n",
        "                         y_train,\n",
        "                         validation_data = (X_test,y_test),\n",
        "                         epochs=30,\n",
        "                         batch_size=16)"
      ],
      "execution_count": 28,
      "outputs": [
        {
          "output_type": "stream",
          "text": [
            "Epoch 1/30\n",
            "330/330 [==============================] - 1s 2ms/step - loss: 0.4816 - accuracy: 0.8401 - val_loss: 0.3204 - val_accuracy: 0.8485\n",
            "Epoch 2/30\n",
            "330/330 [==============================] - 0s 1ms/step - loss: 0.2815 - accuracy: 0.8488 - val_loss: 0.2432 - val_accuracy: 0.8902\n",
            "Epoch 3/30\n",
            "330/330 [==============================] - 0s 1ms/step - loss: 0.2089 - accuracy: 0.9102 - val_loss: 0.1723 - val_accuracy: 0.9280\n",
            "Epoch 4/30\n",
            "330/330 [==============================] - 0s 1ms/step - loss: 0.1454 - accuracy: 0.9437 - val_loss: 0.1196 - val_accuracy: 0.9553\n",
            "Epoch 5/30\n",
            "330/330 [==============================] - 0s 1ms/step - loss: 0.1022 - accuracy: 0.9655 - val_loss: 0.0829 - val_accuracy: 0.9705\n",
            "Epoch 6/30\n",
            "330/330 [==============================] - 0s 1ms/step - loss: 0.0724 - accuracy: 0.9771 - val_loss: 0.0572 - val_accuracy: 0.9841\n",
            "Epoch 7/30\n",
            "330/330 [==============================] - 0s 1ms/step - loss: 0.0502 - accuracy: 0.9903 - val_loss: 0.0381 - val_accuracy: 0.9947\n",
            "Epoch 8/30\n",
            "330/330 [==============================] - 0s 1ms/step - loss: 0.0338 - accuracy: 0.9949 - val_loss: 0.0260 - val_accuracy: 0.9970\n",
            "Epoch 9/30\n",
            "330/330 [==============================] - 0s 1ms/step - loss: 0.0226 - accuracy: 0.9966 - val_loss: 0.0173 - val_accuracy: 0.9970\n",
            "Epoch 10/30\n",
            "330/330 [==============================] - 0s 1ms/step - loss: 0.0149 - accuracy: 0.9979 - val_loss: 0.0128 - val_accuracy: 0.9985\n",
            "Epoch 11/30\n",
            "330/330 [==============================] - 0s 1ms/step - loss: 0.0100 - accuracy: 0.9994 - val_loss: 0.0095 - val_accuracy: 0.9985\n",
            "Epoch 12/30\n",
            "330/330 [==============================] - 0s 1ms/step - loss: 0.0068 - accuracy: 0.9998 - val_loss: 0.0073 - val_accuracy: 0.9985\n",
            "Epoch 13/30\n",
            "330/330 [==============================] - 0s 1ms/step - loss: 0.0048 - accuracy: 1.0000 - val_loss: 0.0060 - val_accuracy: 0.9985\n",
            "Epoch 14/30\n",
            "330/330 [==============================] - 0s 1ms/step - loss: 0.0034 - accuracy: 1.0000 - val_loss: 0.0047 - val_accuracy: 0.9992\n",
            "Epoch 15/30\n",
            "330/330 [==============================] - 0s 1ms/step - loss: 0.0025 - accuracy: 1.0000 - val_loss: 0.0039 - val_accuracy: 0.9992\n",
            "Epoch 16/30\n",
            "330/330 [==============================] - 0s 1ms/step - loss: 0.0019 - accuracy: 1.0000 - val_loss: 0.0031 - val_accuracy: 0.9992\n",
            "Epoch 17/30\n",
            "330/330 [==============================] - 0s 1ms/step - loss: 0.0014 - accuracy: 1.0000 - val_loss: 0.0027 - val_accuracy: 0.9992\n",
            "Epoch 18/30\n",
            "330/330 [==============================] - 0s 1ms/step - loss: 0.0011 - accuracy: 1.0000 - val_loss: 0.0023 - val_accuracy: 0.9992\n",
            "Epoch 19/30\n",
            "330/330 [==============================] - 0s 1ms/step - loss: 8.3299e-04 - accuracy: 1.0000 - val_loss: 0.0020 - val_accuracy: 0.9992\n",
            "Epoch 20/30\n",
            "330/330 [==============================] - 0s 1ms/step - loss: 6.5264e-04 - accuracy: 1.0000 - val_loss: 0.0018 - val_accuracy: 0.9992\n",
            "Epoch 21/30\n",
            "330/330 [==============================] - 0s 1ms/step - loss: 5.1211e-04 - accuracy: 1.0000 - val_loss: 0.0016 - val_accuracy: 0.9992\n",
            "Epoch 22/30\n",
            "330/330 [==============================] - 0s 1ms/step - loss: 4.0493e-04 - accuracy: 1.0000 - val_loss: 0.0013 - val_accuracy: 0.9992\n",
            "Epoch 23/30\n",
            "330/330 [==============================] - 0s 1ms/step - loss: 3.2030e-04 - accuracy: 1.0000 - val_loss: 0.0012 - val_accuracy: 0.9992\n",
            "Epoch 24/30\n",
            "330/330 [==============================] - 0s 1ms/step - loss: 2.5597e-04 - accuracy: 1.0000 - val_loss: 0.0010 - val_accuracy: 0.9992\n",
            "Epoch 25/30\n",
            "330/330 [==============================] - 0s 1ms/step - loss: 2.0488e-04 - accuracy: 1.0000 - val_loss: 9.3591e-04 - val_accuracy: 0.9992\n",
            "Epoch 26/30\n",
            "330/330 [==============================] - 0s 1ms/step - loss: 1.6546e-04 - accuracy: 1.0000 - val_loss: 8.5367e-04 - val_accuracy: 0.9992\n",
            "Epoch 27/30\n",
            "330/330 [==============================] - 0s 1ms/step - loss: 1.3314e-04 - accuracy: 1.0000 - val_loss: 7.0760e-04 - val_accuracy: 1.0000\n",
            "Epoch 28/30\n",
            "330/330 [==============================] - 0s 1ms/step - loss: 1.0895e-04 - accuracy: 1.0000 - val_loss: 5.8608e-04 - val_accuracy: 1.0000\n",
            "Epoch 29/30\n",
            "330/330 [==============================] - 0s 1ms/step - loss: 8.8415e-05 - accuracy: 1.0000 - val_loss: 5.5618e-04 - val_accuracy: 1.0000\n",
            "Epoch 30/30\n",
            "330/330 [==============================] - 0s 1ms/step - loss: 7.1781e-05 - accuracy: 1.0000 - val_loss: 4.7920e-04 - val_accuracy: 1.0000\n"
          ],
          "name": "stdout"
        }
      ]
    },
    {
      "cell_type": "markdown",
      "metadata": {
        "id": "lj9dIsM-XVF_"
      },
      "source": [
        "## Training and Validation accuracy and Loss graph\n"
      ]
    },
    {
      "cell_type": "code",
      "metadata": {
        "id": "kOOynjEkmCt7"
      },
      "source": [
        "acc = history.history['accuracy']\n",
        "val_acc = history.history['val_accuracy']\n",
        "loss = history.history['loss']\n",
        "val_loss = history.history['val_loss']\n",
        "epochs=range(len(acc))"
      ],
      "execution_count": 29,
      "outputs": []
    },
    {
      "cell_type": "code",
      "metadata": {
        "colab": {
          "base_uri": "https://localhost:8080/",
          "height": 298
        },
        "id": "FFXgAqkXocMv",
        "outputId": "cdf1aa14-2784-46aa-86d1-3d866b7999f8"
      },
      "source": [
        "plt.plot(epochs,acc,label='Trainin_acc',color='blue')\n",
        "plt.plot(epochs,val_acc,label='Validation_acc',color='red')\n",
        "plt.legend()\n",
        "plt.title(\"Training and Validation Accuracy\")"
      ],
      "execution_count": 30,
      "outputs": [
        {
          "output_type": "execute_result",
          "data": {
            "text/plain": [
              "Text(0.5, 1.0, 'Training and Validation Accuracy')"
            ]
          },
          "metadata": {
            "tags": []
          },
          "execution_count": 30
        },
        {
          "output_type": "display_data",
          "data": {
            "image/png": "[encoded data removed]",
            "text/plain": [
              "<Figure size 432x288 with 1 Axes>"
            ]
          },
          "metadata": {
            "tags": [],
            "needs_background": "light"
          }
        }
      ]
    },
    {
      "cell_type": "code",
      "metadata": {
        "colab": {
          "base_uri": "https://localhost:8080/",
          "height": 298
        },
        "id": "q8dHoocWofvU",
        "outputId": "e11c86ca-5269-4bb4-e8dc-652b759f6fdd"
      },
      "source": [
        "plt.plot(epochs,loss,label='Training_loss',color='blue')\n",
        "plt.plot(epochs,val_loss,label='Validation_loss',color='red')\n",
        "plt.legend()\n",
        "plt.title(\"Training and Validation loss\")"
      ],
      "execution_count": 31,
      "outputs": [
        {
          "output_type": "execute_result",
          "data": {
            "text/plain": [
              "Text(0.5, 1.0, 'Training and Validation loss')"
            ]
          },
          "metadata": {
            "tags": []
          },
          "execution_count": 31
        },
        {
          "output_type": "display_data",
          "data": {
            "image/png": "[encoded data removed]",
            "text/plain": [
              "<Figure size 432x288 with 1 Axes>"
            ]
          },
          "metadata": {
            "tags": [],
            "needs_background": "light"
          }
        }
      ]
    },
    {
      "cell_type": "code",
      "metadata": {
        "colab": {
          "base_uri": "https://localhost:8080/"
        },
        "id": "qHrdYZZbol2n",
        "outputId": "0da0e070-e908-4f5c-9666-536a880df1a6"
      },
      "source": [
        "y_pred=classifier.predict(X_test)\n",
        "y_pred=np.where(y_pred>0.5,1,0)    # Convert the \"y_pred\" continuous value into discrete value\n",
        "y_pred"
      ],
      "execution_count": 32,
      "outputs": [
        {
          "output_type": "execute_result",
          "data": {
            "text/plain": [
              "array([[0],\n",
              "       [1],\n",
              "       [0],\n",
              "       ...,\n",
              "       [0],\n",
              "       [0],\n",
              "       [0]])"
            ]
          },
          "metadata": {
            "tags": []
          },
          "execution_count": 32
        }
      ]
    },
    {
      "cell_type": "code",
      "metadata": {
        "colab": {
          "base_uri": "https://localhost:8080/"
        },
        "id": "tY2GArwBo3tI",
        "outputId": "6afd5bce-935f-49ac-8c6f-b4eaf352bba9"
      },
      "source": [
        "# find the confusion matrix on prediction data\n",
        "cm = confusion_matrix(y_test, y_pred)\n",
        "cm"
      ],
      "execution_count": 34,
      "outputs": [
        {
          "output_type": "execute_result",
          "data": {
            "text/plain": [
              "array([[1120,    0],\n",
              "       [   0,  200]])"
            ]
          },
          "metadata": {
            "tags": []
          },
          "execution_count": 34
        }
      ]
    },
    {
      "cell_type": "code",
      "metadata": {
        "colab": {
          "base_uri": "https://localhost:8080/"
        },
        "id": "BXZIoOdXo6wi",
        "outputId": "7eb5b02d-0324-444a-9830-6ec4d7097540"
      },
      "source": [
        "accuracy_score(y_test,y_pred)"
      ],
      "execution_count": 35,
      "outputs": [
        {
          "output_type": "execute_result",
          "data": {
            "text/plain": [
              "1.0"
            ]
          },
          "metadata": {
            "tags": []
          },
          "execution_count": 35
        }
      ]
    },
    {
      "cell_type": "markdown",
      "metadata": {
        "id": "QJpGn6nWXnQ6"
      },
      "source": [
        "### validation accuracy, precision, recall, F1 score."
      ]
    },
    {
      "cell_type": "code",
      "metadata": {
        "colab": {
          "base_uri": "https://localhost:8080/"
        },
        "id": "n659FPyZpKLs",
        "outputId": "2f2a5e83-d2e8-4c21-abfa-7dbddd0ac431"
      },
      "source": [
        "print(classification_report(y_test,y_pred))"
      ],
      "execution_count": 36,
      "outputs": [
        {
          "output_type": "stream",
          "text": [
            "              precision    recall  f1-score   support\n",
            "\n",
            "           0       1.00      1.00      1.00      1120\n",
            "           1       1.00      1.00      1.00       200\n",
            "\n",
            "    accuracy                           1.00      1320\n",
            "   macro avg       1.00      1.00      1.00      1320\n",
            "weighted avg       1.00      1.00      1.00      1320\n",
            "\n"
          ],
          "name": "stdout"
        }
      ]
    },
    {
      "cell_type": "markdown",
      "metadata": {
        "id": "RcFC-igtXtUt"
      },
      "source": [
        "### Save the trained Model"
      ]
    },
    {
      "cell_type": "code",
      "metadata": {
        "id": "sHkuL31FpOGy"
      },
      "source": [
        "classifier.save('musk_model.h5')"
      ],
      "execution_count": 37,
      "outputs": []
    }
  ]
}